{
 "cells": [
  {
   "cell_type": "code",
   "execution_count": 2,
   "id": "7733186a-69f9-4cf4-8db2-c0782092bfc3",
   "metadata": {},
   "outputs": [
    {
     "name": "stdout",
     "output_type": "stream",
     "text": [
      "Number of Lines: 99968\n",
      "Number of Words: 795227\n",
      "Instances of \"apostle\" in any form: 113\n",
      "Most Common Word: the\n"
     ]
    }
   ],
   "source": [
    "import urllib.request\n",
    "\n",
    "pg10 = urllib.request.urlopen('https://www.gutenberg.org/cache/epub/10/pg10.txt')\n",
    "data = pg10.read().decode('utf-8')  # decode bytes into a string\n",
    "\n",
    "# How many lines does the string have?\n",
    "lines = data.splitlines()\n",
    "number_of_lines = (len(lines))\n",
    "print(\"Number of Lines:\", number_of_lines)\n",
    "\n",
    "word_count = 0\n",
    "current_word = \"\"\n",
    "\n",
    "# How many words does the string have? (where a word is any set of directly-adjacent alphabet characters)\n",
    "\n",
    "in_word = False # tracks whether we are currently inside a word in case for hyphenated words\n",
    "word_count = 0\n",
    "\n",
    "for char in data:\n",
    "    if char.isalpha():\n",
    "        if not in_word:\n",
    "            word_count += 1\n",
    "            in_word = True\n",
    "    else:\n",
    "        in_word = False\n",
    "\n",
    "print(\"Number of Words:\", word_count)\n",
    "\n",
    "# How many times does the word \"apostle\", ignoring capitalization, appear in the string?\n",
    "\n",
    "# Count instances of the word \"apostle\" (ignore case & punctuation)\n",
    "def count_apostle(text):\n",
    "    text = text.lower()\n",
    "    cleaned = \"\"\n",
    "\n",
    "    for char in text:\n",
    "        if char.isalpha() or char.isspace():\n",
    "            cleaned += char\n",
    "        else:\n",
    "            cleaned += \" \"  # treat punctuation as space\n",
    "\n",
    "    words = cleaned.split()\n",
    "    count = 0\n",
    "    for word in words:\n",
    "        if \"apostle\" in word:\n",
    "            count += 1\n",
    "    return count\n",
    "\n",
    "print('Instances of \"apostle\" in any form:', count_apostle(data))\n",
    "\n",
    "# What is the most common word, ignoring capitalization, in the string? (where a word is any set of directly-adjacent alphabet characters)\n",
    "\n",
    "def most_common_word(text):\n",
    "    cleaned = \"\" #To ignore capitalization and punctuations\n",
    "    for ch in text.lower():\n",
    "        if ch.isalpha():\n",
    "            cleaned += ch\n",
    "        else:\n",
    "            cleaned += \" \"\n",
    "    words = cleaned.split()\n",
    "    freq = {}\n",
    "    for word in words:\n",
    "        freq[word] = freq.get(word, 0) + 1\n",
    "    return max(freq, key=freq.get)\n",
    "\n",
    "print(\"Most Common Word:\", most_common_word(data))"
   ]
  },
  {
   "cell_type": "code",
   "execution_count": null,
   "id": "97592d8a-2b1c-4c43-a872-f05829eb9f65",
   "metadata": {},
   "outputs": [],
   "source": []
  }
 ],
 "metadata": {
  "kernelspec": {
   "display_name": "Python [conda env:base] *",
   "language": "python",
   "name": "conda-base-py"
  },
  "language_info": {
   "codemirror_mode": {
    "name": "ipython",
    "version": 3
   },
   "file_extension": ".py",
   "mimetype": "text/x-python",
   "name": "python",
   "nbconvert_exporter": "python",
   "pygments_lexer": "ipython3",
   "version": "3.12.7"
  }
 },
 "nbformat": 4,
 "nbformat_minor": 5
}
